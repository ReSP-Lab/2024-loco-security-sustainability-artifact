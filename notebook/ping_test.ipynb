{
 "cells": [
  {
   "cell_type": "markdown",
   "metadata": {},
   "source": [
    "### Import Libraries"
   ]
  },
  {
   "cell_type": "code",
   "execution_count": 5,
   "metadata": {},
   "outputs": [],
   "source": [
    "import subprocess\n",
    "import re\n",
    "import statistics\n",
    "import matplotlib.pyplot as plt\n",
    "import pandas as pd"
   ]
  },
  {
   "cell_type": "markdown",
   "metadata": {},
   "source": [
    "Ping the different mail servers to test the response time"
   ]
  },
  {
   "cell_type": "code",
   "execution_count": null,
   "metadata": {},
   "outputs": [
    {
     "name": "stdout",
     "output_type": "stream",
     "text": [
      "Gmail (mail.google.com): Moyenne = 15.2 ms, Écart-type = 2.40 ms, Taille du paquet = 32 octets\n",
      "Outlook (outlook.office.com): Moyenne = 15.79 ms, Écart-type = 1.98 ms, Taille du paquet = 32 octets\n",
      "ProtonMail (mail.proton.me): Moyenne = 25.24 ms, Écart-type = 13.53 ms, Taille du paquet = 32 octets\n"
     ]
    }
   ],
   "source": [
    "# List of mail servers to test\n",
    "mail_servers = {\n",
    "    \"Gmail\": \"mail.google.com\",\n",
    "    \"Outlook\": \"outlook.office.com\",\n",
    "    \"ProtonMail\": \"mail.proton.me\"\n",
    "}\n",
    "\n",
    "def ping_server(server):\n",
    "    \"\"\"Ping a mail server and return average latency, standard deviation, and packet size.\"\"\"\n",
    "    try:\n",
    "        # Run the Windows ping command (-n 100 sends 100 packets)\n",
    "        result = subprocess.run(\n",
    "            [\"ping\", \"-n\", \"100\", server],\n",
    "            capture_output=True, text=True, check=True\n",
    "        )\n",
    "        output = result.stdout\n",
    "\n",
    "        # Extract all individual ping times: \"temps=XXms\"\n",
    "        times = [int(match.group(1)) for match in re.finditer(r\"temps[=<]? ?(\\d+) ?ms\", output)]\n",
    "        \n",
    "        # Extract packet size: \"octets=32\"\n",
    "        packet_size = None\n",
    "        match_size = re.search(r\"octets=(\\d+)\", output)\n",
    "        if match_size:\n",
    "            packet_size = match_size.group(1)\n",
    "        \n",
    "        if times:\n",
    "            avg_latency = statistics.mean(times)\n",
    "            std_latency = statistics.stdev(times) if len(times) > 1 else 0  # Avoid error for 1 value\n",
    "            return avg_latency, std_latency, packet_size\n",
    "        else:\n",
    "            return None, None, packet_size\n",
    "    except subprocess.CalledProcessError:\n",
    "        return None, None, None\n",
    "\n",
    "# Run the test\n",
    "for name, server in mail_servers.items():\n",
    "    avg, std, packet_size = ping_server(server)\n",
    "    if avg is not None:\n",
    "        print(f\"{name} ({server}): Moyenne = {avg} ms, Écart-type = {std:.2f} ms, Taille du paquet = {packet_size} octets\")\n",
    "    else:\n",
    "        print(f\"Impossible de ping {name} ({server})\")\n"
   ]
  },
  {
   "cell_type": "markdown",
   "metadata": {},
   "source": [
    "Also test localhost for to account for the self-hosted solution response time"
   ]
  },
  {
   "cell_type": "code",
   "execution_count": 33,
   "metadata": {},
   "outputs": [
    {
     "name": "stdout",
     "output_type": "stream",
     "text": [
      "MySolution (127.0.0.1): Moyenne = 1 ms, Écart-type = 0.00 ms, Taille du paquet 32 octets\n"
     ]
    }
   ],
   "source": [
    "avg, std, packet_size = ping_server('127.0.0.1')\n",
    "if avg is not None:\n",
    "    print(f\"MySolution (127.0.0.1): Moyenne = {avg} ms, Écart-type = {std:.2f} ms, Taille du paquet {packet_size} octets\")"
   ]
  },
  {
   "cell_type": "code",
   "execution_count": 6,
   "metadata": {},
   "outputs": [
    {
     "data": {
      "image/png": "[encoded data removed]",
      "text/plain": [
       "<Figure size 1200x100 with 1 Axes>"
      ]
     },
     "metadata": {},
     "output_type": "display_data"
    }
   ],
   "source": [
    "# Create a dataframe with the results\n",
    "df_results = pd.DataFrame({\n",
    "    'Server': ['Gmail', 'Outlook', 'ProtonMail', 'MySolution'],\n",
    "    'Mean (ms)': [15.2, 15.79, 25.24, 1],\n",
    "    'STD (ms)': [2.40, 1.98, 13.53, 0]\n",
    "\n",
    "})\n",
    "\n",
    "# Create a figure and a single subplot with adjusted size\n",
    "fig, ax = plt.subplots(figsize=(12, 1))\n",
    "\n",
    "# Hide axes\n",
    "ax.xaxis.set_visible(False)\n",
    "ax.yaxis.set_visible(False)\n",
    "ax.set_frame_on(False)\n",
    "\n",
    "# Create the table with adjusted cell colors\n",
    "table = ax.table(cellText=df_results.values, colLabels=df_results.columns, cellLoc='center', loc='center', \n",
    "                 colColours=['lightblue']*df_results.shape[1],)\n",
    "\n",
    "# Make the column headers and index bold\n",
    "for (row, col), cell in table.get_celld().items():\n",
    "    if row == 0 :\n",
    "        cell.set_text_props(weight='bold')\n",
    "table.auto_set_font_size(False)\n",
    "table.set_fontsize(13)\n",
    "table.scale(1, 1.3)\n",
    "\n",
    "# Display the plot\n",
    "plt.show()\n"
   ]
  }
 ],
 "metadata": {
  "kernelspec": {
   "display_name": "venv",
   "language": "python",
   "name": "python3"
  },
  "language_info": {
   "codemirror_mode": {
    "name": "ipython",
    "version": 3
   },
   "file_extension": ".py",
   "mimetype": "text/x-python",
   "name": "python",
   "nbconvert_exporter": "python",
   "pygments_lexer": "ipython3",
   "version": "3.13.2"
  }
 },
 "nbformat": 4,
 "nbformat_minor": 2
}
