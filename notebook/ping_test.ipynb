{
 "cells": [
  {
   "cell_type": "markdown",
   "metadata": {},
   "source": [
    "### Import Libraries"
   ]
  },
  {
   "cell_type": "code",
   "execution_count": 3,
   "metadata": {},
   "outputs": [],
   "source": [
    "import subprocess\n",
    "import platform\n",
    "import re\n",
    "import statistics\n",
    "import matplotlib.pyplot as plt\n",
    "import pandas as pd"
   ]
  },
  {
   "cell_type": "code",
   "execution_count": 21,
   "metadata": {},
   "outputs": [],
   "source": [
    "def ping_server(server, count=3):\n",
    "    \"\"\"Ping a server and return average latency, std dev, and packet size.\"\"\"\n",
    "    is_windows = platform.system().lower() == \"windows\"\n",
    "    param = \"-n\" if is_windows else \"-c\"\n",
    "\n",
    "    try:\n",
    "        result = subprocess.run(\n",
    "            [\"ping\", param, str(count), server],\n",
    "            capture_output=True, text=True\n",
    "        )\n",
    "        output = result.stdout\n",
    "\n",
    "        print(f\"Ping output for {server}:\\n{output}\")\n",
    "\n",
    "        if is_windows:\n",
    "            # Extract individual times from reply lines (Windows output)\n",
    "            time_matches = re.findall(r\"(?:temps|time)[=<]?\\s?(\\d+)\\s?ms\", output)\n",
    "            times = [float(t) for t in time_matches]\n",
    "\n",
    "            if times:\n",
    "                avg_latency = statistics.mean(times)\n",
    "                std_latency = statistics.stdev(times) if len(times) > 1 else 0.0\n",
    "            else:\n",
    "                return None, None, None\n",
    "\n",
    "        else:\n",
    "            # On Linux, parse summary line 'rtt min/avg/max/mdev = ...'\n",
    "            match = re.search(\n",
    "                r\"rtt min/avg/max/mdev = ([\\d.]+)/([\\d.]+)/([\\d.]+)/([\\d.]+) ms\",\n",
    "                output\n",
    "            )\n",
    "            if match:\n",
    "                avg_latency = float(match.group(2))\n",
    "                std_latency = float(match.group(4))\n",
    "            else:\n",
    "                return None, None, None\n",
    "\n",
    "        # Packet size (from one of the reply lines)\n",
    "        match_size = re.search(r\"(\\d+)\\s*(?:octets|bytes)\\s+from\", output)\n",
    "        packet_size = int(match_size.group(1)) if match_size else None\n",
    "\n",
    "        return avg_latency, std_latency, packet_size\n",
    "\n",
    "    except subprocess.SubprocessError as e:\n",
    "        print(f\"Ping failed: {e}\")\n",
    "        return None, None, None\n"
   ]
  },
  {
   "cell_type": "markdown",
   "metadata": {},
   "source": [
    "Ping the different mail servers to test the response time"
   ]
  },
  {
   "cell_type": "code",
   "execution_count": null,
   "metadata": {},
   "outputs": [
    {
     "name": "stdout",
     "output_type": "stream",
     "text": [
      "Gmail (mail.google.com): Moyenne = 15.2 ms, Écart-type = 2.40 ms, Taille du paquet = 32 octets\n",
      "Outlook (outlook.office.com): Moyenne = 15.79 ms, Écart-type = 1.98 ms, Taille du paquet = 32 octets\n",
      "ProtonMail (mail.proton.me): Moyenne = 25.24 ms, Écart-type = 13.53 ms, Taille du paquet = 32 octets\n"
     ]
    }
   ],
   "source": [
    "# List of mail servers to test\n",
    "mail_servers = {\n",
    "    \"Gmail\": \"mail.google.com\",\n",
    "    \"Outlook\": \"outlook.office.com\",\n",
    "    \"ProtonMail\": \"mail.proton.me\"\n",
    "}\n",
    "\n",
    "# Run the test\n",
    "for name, server in mail_servers.items():\n",
    "    avg, std, packet_size = ping_server(server)\n",
    "    if avg is not None:\n",
    "        print(f\"{name} ({server}): Moyenne = {avg} ms, Écart-type = {std:.2f} ms, Taille du paquet = {packet_size} octets\")\n",
    "    else:\n",
    "        print(f\"Impossible de ping {name} ({server})\")\n"
   ]
  },
  {
   "cell_type": "markdown",
   "metadata": {},
   "source": [
    "Also test localhost for to account for the self-hosted solution response time"
   ]
  },
  {
   "cell_type": "code",
   "execution_count": 33,
   "metadata": {},
   "outputs": [
    {
     "name": "stdout",
     "output_type": "stream",
     "text": [
      "MySolution (127.0.0.1): Moyenne = 1 ms, Écart-type = 0.00 ms, Taille du paquet 32 octets\n"
     ]
    }
   ],
   "source": [
    "avg, std, packet_size = ping_server('127.0.0.1')\n",
    "if avg is not None:\n",
    "    print(f\"MySolution (127.0.0.1): Moyenne = {avg} ms, Écart-type = {std:.2f} ms, Taille du paquet {packet_size} octets\")"
   ]
  },
  {
   "cell_type": "markdown",
   "metadata": {},
   "source": [
    "Ping the ULB server from Home to get `remote` latency"
   ]
  },
  {
   "cell_type": "code",
   "execution_count": null,
   "metadata": {},
   "outputs": [],
   "source": [
    "import requests\n",
    "import time\n",
    "\n",
    "def https_latency(url):\n",
    "    start = time.time()\n",
    "    try:\n",
    "        response = requests.get(url, timeout=5, verify=False)  # Disable SSL verification for localhost\n",
    "        response.raise_for_status()\n",
    "        end = time.time()\n",
    "        latency_ms = (end - start) * 1000  # convert to milliseconds\n",
    "        return latency_ms\n",
    "    except requests.RequestException as e:\n",
    "        print(f\"Request failed: {e}\")\n",
    "        return None\n",
    "\n",
    "url = \"https://localhost\"\n",
    "times = []\n",
    "\n",
    "while len(times) < 100:\n",
    "    latency = https_latency(url)\n",
    "    if latency is not None:\n",
    "        times.append(latency)\n",
    "        print(f\"{len(times)/100:.0%} completed, current latency: {statistics.mean(times):.2f} ms\") if len(times) % 10 == 0 else None\n",
    "    else:\n",
    "        print(\"Failed to measure latency, retrying...\")\n",
    "\n",
    "print(f\"Average latency over 10 measurements: {statistics.mean(times):.2f} ms\")\n"
   ]
  },
  {
   "cell_type": "code",
   "execution_count": 36,
   "metadata": {},
   "outputs": [
    {
     "name": "stdout",
     "output_type": "stream",
     "text": [
      "Ping output for google.com:\n",
      "PING google.com (2a00:1450:400c:c06::65) 56 data bytes\n",
      "64 bytes from wb-in-f101.1e100.net (2a00:1450:400c:c06::65): icmp_seq=1 ttl=109 time=19.2 ms\n",
      "64 bytes from wb-in-f101.1e100.net (2a00:1450:400c:c06::65): icmp_seq=2 ttl=109 time=24.9 ms\n",
      "64 bytes from wb-in-f101.1e100.net (2a00:1450:400c:c06::65): icmp_seq=3 ttl=109 time=11.8 ms\n",
      "\n",
      "--- google.com ping statistics ---\n",
      "3 packets transmitted, 3 received, 0% packet loss, time 2002ms\n",
      "rtt min/avg/max/mdev = 11.758/18.644/24.935/5.395 ms\n",
      "\n",
      "MySolution (Remote Emulation): Mean = 18.644 ms, Std = 5.39 ms, Packet Size : 64 Bytes\n"
     ]
    }
   ],
   "source": [
    "avg, std, packet_size = ping_server('google.com', count=3)\n",
    "if avg is not None:\n",
    "    print(f\"MySolution (Remote Emulation): Mean = {avg} ms, Std = {std:.2f} ms, Packet Size : {packet_size} Bytes\")"
   ]
  },
  {
   "cell_type": "code",
   "execution_count": 45,
   "metadata": {},
   "outputs": [
    {
     "data": {
      "image/png": "[encoded data removed]",
      "text/plain": [
       "<Figure size 1200x100 with 1 Axes>"
      ]
     },
     "metadata": {},
     "output_type": "display_data"
    }
   ],
   "source": [
    "# Create a dataframe with the results\n",
    "df_results = pd.DataFrame({\n",
    "    'Server': ['Gmail', 'Outlook', 'ProtonMail', 'MySolution'],\n",
    "    'Mean (ms)': [15.2, 15.79, 25.24, 1],\n",
    "    'STD (ms)': [2.40, 1.98, 13.53, 0]\n",
    "\n",
    "})\n",
    "\n",
    "# Create a figure and a single subplot with adjusted size\n",
    "fig, ax = plt.subplots(figsize=(12, 1))\n",
    "\n",
    "# Hide axes\n",
    "ax.xaxis.set_visible(False)\n",
    "ax.yaxis.set_visible(False)\n",
    "ax.set_frame_on(False)\n",
    "\n",
    "# Create the table with adjusted cell colors\n",
    "table = ax.table(cellText=df_results.values, colLabels=df_results.columns, cellLoc='center', loc='center', \n",
    "                 colColours=['lightblue']*df_results.shape[1],)\n",
    "\n",
    "# Make the column headers and index bold\n",
    "for (row, col), cell in table.get_celld().items():\n",
    "    if row == 0 :\n",
    "        cell.set_text_props(weight='bold')\n",
    "    cell.get_text().set_ha('right')\n",
    "table.auto_set_font_size(False)\n",
    "table.set_fontsize(13)\n",
    "table.scale(.5, 1.3)\n",
    "\n",
    "# Display the plot\n",
    "plt.show()\n"
   ]
  },
  {
   "cell_type": "code",
   "execution_count": null,
   "metadata": {},
   "outputs": [],
   "source": []
  }
 ],
 "metadata": {
  "kernelspec": {
   "display_name": "venv",
   "language": "python",
   "name": "python3"
  },
  "language_info": {
   "codemirror_mode": {
    "name": "ipython",
    "version": 3
   },
   "file_extension": ".py",
   "mimetype": "text/x-python",
   "name": "python",
   "nbconvert_exporter": "python",
   "pygments_lexer": "ipython3",
   "version": "3.12.3"
  }
 },
 "nbformat": 4,
 "nbformat_minor": 2
}
